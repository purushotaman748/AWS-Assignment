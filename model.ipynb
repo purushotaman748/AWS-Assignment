{
 "cells": [
  {
   "cell_type": "code",
   "execution_count": 3,
   "metadata": {},
   "outputs": [],
   "source": [
    "import os\n",
    "import cv2\n",
    "from sklearn.model_selection import train_test_split\n",
    "from tensorflow.keras.models import Sequential\n",
    "from tensorflow.keras.layers import Dense, Dropout, Flatten, Conv2D, MaxPooling2D\n",
    "from tensorflow.keras.utils import to_categorical\n",
    "import numpy as np"
   ]
  },
  {
   "cell_type": "code",
   "execution_count": 4,
   "metadata": {},
   "outputs": [],
   "source": [
    "covid_dir = 'C:\\\\documents\\\\DevOpsdemo\\\\final\\\\COVID_SARS\\\\COVID\\\\'\n",
    "non_covid_dir = 'C:\\\\documents\\\\DevOpsdemo\\\\final\\\\COVID_SARS\\\\non-COVID\\\\'"
   ]
  },
  {
   "cell_type": "code",
   "execution_count": 5,
   "metadata": {},
   "outputs": [],
   "source": [
    "covid_images = []\n",
    "non_covid_images = []"
   ]
  },
  {
   "cell_type": "code",
   "execution_count": 6,
   "metadata": {},
   "outputs": [],
   "source": [
    "for filename in os.listdir(covid_dir):\n",
    "    covid_images.append(cv2.imread(os.path.join(covid_dir, filename)))\n",
    "\n",
    "for filename in os.listdir(non_covid_dir):\n",
    "    non_covid_images.append(cv2.imread(os.path.join(non_covid_dir, filename)))"
   ]
  },
  {
   "cell_type": "code",
   "execution_count": 7,
   "metadata": {},
   "outputs": [],
   "source": [
    "images = [cv2.resize(img, (224, 224)) for img in (covid_images + non_covid_images)]\n",
    "images = np.array(images) / 255.0  # normalize between 0 and 1"
   ]
  },
  {
   "cell_type": "code",
   "execution_count": 8,
   "metadata": {},
   "outputs": [],
   "source": [
    "covid_labels = [1 for _ in covid_images]  # 1 for covid\n",
    "non_covid_labels = [0 for _ in non_covid_images]  # 0 for non-covid\n",
    "labels = covid_labels + non_covid_labels"
   ]
  },
  {
   "cell_type": "code",
   "execution_count": 9,
   "metadata": {},
   "outputs": [],
   "source": [
    "X_train, X_test, y_train, y_test = train_test_split(images, labels, test_size=0.2)"
   ]
  },
  {
   "cell_type": "code",
   "execution_count": 10,
   "metadata": {},
   "outputs": [],
   "source": [
    "y_train = to_categorical(y_train, num_classes=2)  # 2 classes: covid and non-covid\n",
    "y_test = to_categorical(y_test, num_classes=2)"
   ]
  },
  {
   "cell_type": "code",
   "execution_count": 11,
   "metadata": {},
   "outputs": [
    {
     "name": "stdout",
     "output_type": "stream",
     "text": [
      "WARNING:tensorflow:From c:\\documents\\DevOpsdemo\\final\\ggwp\\lib\\site-packages\\keras\\src\\backend.py:873: The name tf.get_default_graph is deprecated. Please use tf.compat.v1.get_default_graph instead.\n",
      "\n",
      "WARNING:tensorflow:From c:\\documents\\DevOpsdemo\\final\\ggwp\\lib\\site-packages\\keras\\src\\layers\\pooling\\max_pooling2d.py:161: The name tf.nn.max_pool is deprecated. Please use tf.nn.max_pool2d instead.\n",
      "\n",
      "WARNING:tensorflow:From c:\\documents\\DevOpsdemo\\final\\ggwp\\lib\\site-packages\\keras\\src\\optimizers\\__init__.py:309: The name tf.train.Optimizer is deprecated. Please use tf.compat.v1.train.Optimizer instead.\n",
      "\n"
     ]
    }
   ],
   "source": [
    "model = Sequential()\n",
    "model.add(Conv2D(32, (3, 3), activation=\"relu\", input_shape=(224, 224, 3)))\n",
    "model.add(MaxPooling2D((2, 2)))\n",
    "# Add more layers and adjust parameters based on your needs\n",
    "model.add(Flatten())\n",
    "model.add(Dense(128, activation=\"relu\"))\n",
    "model.add(Dropout(0.5))\n",
    "model.add(Dense(2, activation=\"softmax\"))  # 2 classes: covid and non-covid\n",
    "model.compile(loss=\"categorical_crossentropy\", optimizer=\"adam\", metrics=[\"accuracy\"])"
   ]
  },
  {
   "cell_type": "code",
   "execution_count": 12,
   "metadata": {},
   "outputs": [
    {
     "name": "stdout",
     "output_type": "stream",
     "text": [
      "Model: \"sequential\"\n",
      "_________________________________________________________________\n",
      " Layer (type)                Output Shape              Param #   \n",
      "=================================================================\n",
      " conv2d (Conv2D)             (None, 222, 222, 32)      896       \n",
      "                                                                 \n",
      " max_pooling2d (MaxPooling2  (None, 111, 111, 32)      0         \n",
      " D)                                                              \n",
      "                                                                 \n",
      " flatten (Flatten)           (None, 394272)            0         \n",
      "                                                                 \n",
      " dense (Dense)               (None, 128)               50466944  \n",
      "                                                                 \n",
      " dropout (Dropout)           (None, 128)               0         \n",
      "                                                                 \n",
      " dense_1 (Dense)             (None, 2)                 258       \n",
      "                                                                 \n",
      "=================================================================\n",
      "Total params: 50468098 (192.52 MB)\n",
      "Trainable params: 50468098 (192.52 MB)\n",
      "Non-trainable params: 0 (0.00 Byte)\n",
      "_________________________________________________________________\n"
     ]
    }
   ],
   "source": [
    "model.summary()"
   ]
  },
  {
   "cell_type": "code",
   "execution_count": 13,
   "metadata": {},
   "outputs": [
    {
     "name": "stdout",
     "output_type": "stream",
     "text": [
      "Epoch 1/10\n",
      "WARNING:tensorflow:From c:\\documents\\DevOpsdemo\\final\\ggwp\\lib\\site-packages\\keras\\src\\utils\\tf_utils.py:492: The name tf.ragged.RaggedTensorValue is deprecated. Please use tf.compat.v1.ragged.RaggedTensorValue instead.\n",
      "\n",
      "WARNING:tensorflow:From c:\\documents\\DevOpsdemo\\final\\ggwp\\lib\\site-packages\\keras\\src\\engine\\base_layer_utils.py:384: The name tf.executing_eagerly_outside_functions is deprecated. Please use tf.compat.v1.executing_eagerly_outside_functions instead.\n",
      "\n",
      "62/62 [==============================] - 30s 464ms/step - loss: 4.5630 - accuracy: 0.5907 - val_loss: 0.5932 - val_accuracy: 0.7525\n",
      "Epoch 2/10\n",
      "62/62 [==============================] - 28s 454ms/step - loss: 0.5543 - accuracy: 0.7278 - val_loss: 0.5026 - val_accuracy: 0.7907\n",
      "Epoch 3/10\n",
      "62/62 [==============================] - 28s 454ms/step - loss: 0.4563 - accuracy: 0.8044 - val_loss: 0.4072 - val_accuracy: 0.8209\n",
      "Epoch 4/10\n",
      "62/62 [==============================] - 28s 454ms/step - loss: 0.3383 - accuracy: 0.8649 - val_loss: 0.4853 - val_accuracy: 0.7606\n",
      "Epoch 5/10\n",
      "62/62 [==============================] - 28s 456ms/step - loss: 0.2698 - accuracy: 0.8997 - val_loss: 0.3713 - val_accuracy: 0.8129\n",
      "Epoch 6/10\n",
      "62/62 [==============================] - 28s 453ms/step - loss: 0.1974 - accuracy: 0.9294 - val_loss: 0.3242 - val_accuracy: 0.8551\n",
      "Epoch 7/10\n",
      "62/62 [==============================] - 28s 458ms/step - loss: 0.1535 - accuracy: 0.9481 - val_loss: 0.3172 - val_accuracy: 0.8491\n",
      "Epoch 8/10\n",
      "62/62 [==============================] - 29s 473ms/step - loss: 0.1105 - accuracy: 0.9677 - val_loss: 0.3305 - val_accuracy: 0.8612\n",
      "Epoch 9/10\n",
      "62/62 [==============================] - 45s 723ms/step - loss: 0.1054 - accuracy: 0.9632 - val_loss: 0.3190 - val_accuracy: 0.8471\n",
      "Epoch 10/10\n",
      "62/62 [==============================] - 58s 938ms/step - loss: 0.0756 - accuracy: 0.9778 - val_loss: 0.3408 - val_accuracy: 0.8511\n"
     ]
    },
    {
     "data": {
      "text/plain": [
       "<keras.src.callbacks.History at 0x2335f90b220>"
      ]
     },
     "execution_count": 13,
     "metadata": {},
     "output_type": "execute_result"
    }
   ],
   "source": [
    "model.fit(X_train, y_train, epochs=10, validation_data=(X_test, y_test))\n"
   ]
  },
  {
   "cell_type": "code",
   "execution_count": 14,
   "metadata": {},
   "outputs": [
    {
     "name": "stdout",
     "output_type": "stream",
     "text": [
      "1/1 [==============================] - 0s 68ms/step\n"
     ]
    }
   ],
   "source": [
    "unknown_image = cv2.imread(\"C:\\\\documents\\\\DevOpsdemo\\\\final\\\\COVID_SARS\\\\COVID\\\\Covid (2).png\")  # Replace with your path\n",
    "unknown_image = cv2.resize(unknown_image, (224, 224))\n",
    "unknown_image = np.array([unknown_image / 255.0])\n",
    "prediction = model.predict(unknown_image)[0]"
   ]
  },
  {
   "cell_type": "code",
   "execution_count": 15,
   "metadata": {},
   "outputs": [
    {
     "name": "stdout",
     "output_type": "stream",
     "text": [
      "Predicted: Covid\n"
     ]
    }
   ],
   "source": [
    "if np.argmax(prediction) == 1:\n",
    "    print(\"Predicted: Covid\")\n",
    "else:\n",
    "    print(\"Predicted: Non-Covid\")"
   ]
  },
  {
   "cell_type": "code",
   "execution_count": 18,
   "metadata": {},
   "outputs": [
    {
     "name": "stdout",
     "output_type": "stream",
     "text": [
      "Model saved to: covid_model.pkl\n"
     ]
    }
   ],
   "source": [
    "# Import pickle library\n",
    "import pickle\n",
    "\n",
    "# Define the model filename\n",
    "model_filename = \"covid_model.pkl\"\n",
    "\n",
    "# Save the model to a pickle file\n",
    "with open(model_filename, \"wb\") as f:\n",
    "    pickle.dump(model, f)\n",
    "\n",
    "print(f\"Model saved to: {model_filename}\")\n"
   ]
  }
 ],
 "metadata": {
  "kernelspec": {
   "display_name": "ggwp",
   "language": "python",
   "name": "python3"
  },
  "language_info": {
   "codemirror_mode": {
    "name": "ipython",
    "version": 3
   },
   "file_extension": ".py",
   "mimetype": "text/x-python",
   "name": "python",
   "nbconvert_exporter": "python",
   "pygments_lexer": "ipython3",
   "version": "3.10.5"
  }
 },
 "nbformat": 4,
 "nbformat_minor": 2
}
